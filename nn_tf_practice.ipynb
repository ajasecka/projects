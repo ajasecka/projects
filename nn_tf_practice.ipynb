{
  "nbformat": 4,
  "nbformat_minor": 0,
  "metadata": {
    "colab": {
      "name": "nn_tf_practice",
      "provenance": [],
      "collapsed_sections": [],
      "include_colab_link": true
    },
    "kernelspec": {
      "name": "python3",
      "display_name": "Python 3"
    }
  },
  "cells": [
    {
      "cell_type": "markdown",
      "metadata": {
        "id": "view-in-github",
        "colab_type": "text"
      },
      "source": [
        "<a href=\"https://colab.research.google.com/github/ajasecka/projects/blob/master/nn_tf_practice.ipynb\" target=\"_parent\"><img src=\"https://colab.research.google.com/assets/colab-badge.svg\" alt=\"Open In Colab\"/></a>"
      ]
    },
    {
      "cell_type": "code",
      "metadata": {
        "id": "48ocTH4w-I_6",
        "colab_type": "code",
        "colab": {}
      },
      "source": [
        "# skeleton from datacamp.com (Keras Tutorial: Deep Learning in Python)\n",
        "# using tensorflow\n",
        "\n",
        "# Install TensorFlow (hopefully 2.x)\n",
        "try:\n",
        "  # %tensorflow_version only exists in Colab.\n",
        "  %tensorflow_version 2.x\n",
        "  print('TensorFlow 2.x was selected.')\n",
        "except Exception:\n",
        "    print('TensorFlow 2.x was not selected.')\n",
        "\n",
        "print('Importing...')\n",
        "\n",
        "from __future__ import absolute_import, division, print_function, unicode_literals\n",
        "\n",
        "import tensorflow as tf\n",
        "\n",
        "from tensorflow.keras.layers import Dense, Flatten, Conv2D\n",
        "from tensorflow.keras import Model\n",
        "from tensorflow.compat.v2.keras.models import Sequential\n",
        "\n",
        "import numpy as np\n",
        "\n",
        "print('Import complete.')\n",
        "\n",
        "# Initialize the constructor\n",
        "model = Sequential()\n",
        "\n",
        "# Add an input layer \n",
        "model.add(Dense(12, activation='relu', input_shape=(1,)))\n",
        "\n",
        "# Add one hidden layer \n",
        "model.add(Dense(8, activation='relu'))\n",
        "\n",
        "# Add an output layer (using linear because of regression)\n",
        "model.add(Dense(1, activation='linear'))"
      ],
      "execution_count": 0,
      "outputs": []
    },
    {
      "cell_type": "code",
      "metadata": {
        "id": "E-2LTBzI_q2g",
        "colab_type": "code",
        "colab": {}
      },
      "source": [
        "# Model output shape\n",
        "model.output_shape\n",
        "\n",
        "# Model summary\n",
        "model.summary()\n",
        "\n",
        "# Model config\n",
        "model.get_config()\n",
        "\n",
        "# List all weight tensors \n",
        "model.get_weights()"
      ],
      "execution_count": 0,
      "outputs": []
    },
    {
      "cell_type": "code",
      "metadata": {
        "id": "8_9g6PRN_zHa",
        "colab_type": "code",
        "colab": {}
      },
      "source": [
        "# input is randomized value from 0 to 100, output is value plus itself\n",
        "X_train = np.random.random_sample(100) * 100\n",
        "y_train = X_train + X_train\n",
        "\n",
        "model.compile(loss='mean_squared_error',\n",
        "              optimizer='adam',\n",
        "              metrics=['accuracy'])\n",
        "                   \n",
        "model.fit(X_train, y_train,epochs=20, batch_size=1, verbose=1)"
      ],
      "execution_count": 0,
      "outputs": []
    },
    {
      "cell_type": "code",
      "metadata": {
        "id": "y_OxHwm5GSSi",
        "colab_type": "code",
        "colab": {}
      },
      "source": [
        "model.predict([4,5])"
      ],
      "execution_count": 0,
      "outputs": []
    }
  ]
}